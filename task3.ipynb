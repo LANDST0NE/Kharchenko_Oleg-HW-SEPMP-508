{
  "nbformat": 4,
  "nbformat_minor": 0,
  "metadata": {
    "colab": {
      "provenance": []
    },
    "kernelspec": {
      "name": "python3",
      "display_name": "Python 3"
    },
    "language_info": {
      "name": "python"
    }
  },
  "cells": [
    {
      "cell_type": "code",
      "execution_count": 23,
      "metadata": {
        "id": "uknI5esi2K_Q",
        "colab": {
          "base_uri": "https://localhost:8080/"
        },
        "outputId": "1f2258fc-ead4-4306-d130-05665c6d2085"
      },
      "outputs": [
        {
          "output_type": "stream",
          "name": "stdout",
          "text": [
            "1\n",
            "2147483647 \n",
            "0\n"
          ]
        }
      ],
      "source": [
        "left = int(input())\n",
        "right = int(input())\n",
        "\n",
        "c = left\n",
        "\n",
        "for i in range(left + 1, right + 1):\n",
        "    c = c & i\n",
        "print(c)\n",
        "\n"
      ]
    },
    {
      "cell_type": "code",
      "source": [
        "Только неоптимизированный по времени код"
      ],
      "metadata": {
        "id": "fYf1gryl65Ff"
      },
      "execution_count": 24,
      "outputs": []
    }
  ]
}