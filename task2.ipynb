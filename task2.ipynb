{
  "nbformat": 4,
  "nbformat_minor": 0,
  "metadata": {
    "colab": {
      "provenance": []
    },
    "kernelspec": {
      "name": "python3",
      "display_name": "Python 3"
    },
    "language_info": {
      "name": "python"
    }
  },
  "cells": [
    {
      "cell_type": "code",
      "execution_count": 23,
      "metadata": {
        "id": "uknI5esi2K_Q",
        "colab": {
          "base_uri": "https://localhost:8080/"
        },
        "outputId": "cfe67256-8d03-4173-aa8a-195d36f01505"
      },
      "outputs": [
        {
          "output_type": "stream",
          "name": "stdout",
          "text": [
            "28\n",
            "AB\n"
          ]
        }
      ],
      "source": [
        "a = int(input())\n",
        "c = str()\n",
        "\n",
        "while a >= 27:\n",
        "  c += 'A'\n",
        "  a -= 26\n",
        "\n",
        "# сейчас a < 27 и из этого требуется вывести соответсвующую букву (B-Z)\n",
        "\n",
        "c += str(chr(64 + a))\n",
        "print(c)\n",
        "\n"
      ]
    },
    {
      "cell_type": "code",
      "source": [],
      "metadata": {
        "id": "PWUM8nEzalbA"
      },
      "execution_count": null,
      "outputs": []
    }
  ]
}