{
  "nbformat": 4,
  "nbformat_minor": 0,
  "metadata": {
    "colab": {
      "provenance": []
    },
    "kernelspec": {
      "name": "python3",
      "display_name": "Python 3"
    },
    "language_info": {
      "name": "python"
    }
  },
  "cells": [
    {
      "cell_type": "code",
      "execution_count": 28,
      "metadata": {
        "id": "uknI5esi2K_Q",
        "colab": {
          "base_uri": "https://localhost:8080/"
        },
        "outputId": "32176103-c15c-4e82-b1ac-a68c57a6e4cf"
      },
      "outputs": [
        {
          "output_type": "stream",
          "name": "stdout",
          "text": [
            "1\n",
            "11\n",
            "100\n"
          ]
        }
      ],
      "source": [
        "a = input()\n",
        "b = input()\n",
        "c = str(bin(int(a, 2) + int(b, 2)))\n",
        "print(c[2:])"
      ]
    }
  ]
}